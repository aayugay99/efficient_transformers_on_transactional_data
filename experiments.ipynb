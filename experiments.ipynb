{
 "cells": [
  {
   "cell_type": "code",
   "execution_count": 1,
   "metadata": {},
   "outputs": [],
   "source": [
    "import pandas as pd\n",
    "import numpy as np\n",
    "from sklearn.preprocessing import KBinsDiscretizer\n",
    "\n",
    "import torch\n",
    "import torch.nn as nn \n",
    "from torch.utils.data import Dataset, DataLoader\n",
    "from torch.nn.utils.rnn import pad_sequence\n",
    "\n",
    "from dataset import TransactionDataset, transaction_collate_fn\n",
    "\n",
    "from torchmetrics.classification import MulticlassF1Score"
   ]
  },
  {
   "cell_type": "code",
   "execution_count": 2,
   "metadata": {},
   "outputs": [
    {
     "data": {
      "text/html": [
       "<div>\n",
       "<style scoped>\n",
       "    .dataframe tbody tr th:only-of-type {\n",
       "        vertical-align: middle;\n",
       "    }\n",
       "\n",
       "    .dataframe tbody tr th {\n",
       "        vertical-align: top;\n",
       "    }\n",
       "\n",
       "    .dataframe thead th {\n",
       "        text-align: right;\n",
       "    }\n",
       "</style>\n",
       "<table border=\"1\" class=\"dataframe\">\n",
       "  <thead>\n",
       "    <tr style=\"text-align: right;\">\n",
       "      <th></th>\n",
       "      <th>PERIOD</th>\n",
       "      <th>client_id</th>\n",
       "      <th>small_group</th>\n",
       "      <th>channel_type</th>\n",
       "      <th>currency</th>\n",
       "      <th>TRDATETIME</th>\n",
       "      <th>amount_rur</th>\n",
       "      <th>trx_category</th>\n",
       "      <th>target_flag</th>\n",
       "      <th>target_sum</th>\n",
       "    </tr>\n",
       "  </thead>\n",
       "  <tbody>\n",
       "    <tr>\n",
       "      <th>0</th>\n",
       "      <td>01/10/2017</td>\n",
       "      <td>0</td>\n",
       "      <td>5200</td>\n",
       "      <td>NaN</td>\n",
       "      <td>810</td>\n",
       "      <td>2017-10-21 00:00:00</td>\n",
       "      <td>5023.0</td>\n",
       "      <td>POS</td>\n",
       "      <td>0</td>\n",
       "      <td>0.0</td>\n",
       "    </tr>\n",
       "    <tr>\n",
       "      <th>1</th>\n",
       "      <td>01/10/2017</td>\n",
       "      <td>0</td>\n",
       "      <td>6011</td>\n",
       "      <td>NaN</td>\n",
       "      <td>810</td>\n",
       "      <td>2017-10-12 12:24:07</td>\n",
       "      <td>20000.0</td>\n",
       "      <td>DEPOSIT</td>\n",
       "      <td>0</td>\n",
       "      <td>0.0</td>\n",
       "    </tr>\n",
       "    <tr>\n",
       "      <th>2</th>\n",
       "      <td>01/12/2017</td>\n",
       "      <td>0</td>\n",
       "      <td>5921</td>\n",
       "      <td>NaN</td>\n",
       "      <td>810</td>\n",
       "      <td>2017-12-05 00:00:00</td>\n",
       "      <td>767.0</td>\n",
       "      <td>POS</td>\n",
       "      <td>0</td>\n",
       "      <td>0.0</td>\n",
       "    </tr>\n",
       "    <tr>\n",
       "      <th>3</th>\n",
       "      <td>01/10/2017</td>\n",
       "      <td>0</td>\n",
       "      <td>5411</td>\n",
       "      <td>NaN</td>\n",
       "      <td>810</td>\n",
       "      <td>2017-10-21 00:00:00</td>\n",
       "      <td>2031.0</td>\n",
       "      <td>POS</td>\n",
       "      <td>0</td>\n",
       "      <td>0.0</td>\n",
       "    </tr>\n",
       "    <tr>\n",
       "      <th>4</th>\n",
       "      <td>01/10/2017</td>\n",
       "      <td>0</td>\n",
       "      <td>6012</td>\n",
       "      <td>NaN</td>\n",
       "      <td>810</td>\n",
       "      <td>2017-10-24 13:14:24</td>\n",
       "      <td>36562.0</td>\n",
       "      <td>C2C_OUT</td>\n",
       "      <td>0</td>\n",
       "      <td>0.0</td>\n",
       "    </tr>\n",
       "  </tbody>\n",
       "</table>\n",
       "</div>"
      ],
      "text/plain": [
       "       PERIOD  client_id  small_group channel_type  currency  \\\n",
       "0  01/10/2017          0         5200          NaN       810   \n",
       "1  01/10/2017          0         6011          NaN       810   \n",
       "2  01/12/2017          0         5921          NaN       810   \n",
       "3  01/10/2017          0         5411          NaN       810   \n",
       "4  01/10/2017          0         6012          NaN       810   \n",
       "\n",
       "           TRDATETIME  amount_rur trx_category  target_flag  target_sum  \n",
       "0 2017-10-21 00:00:00      5023.0          POS            0         0.0  \n",
       "1 2017-10-12 12:24:07     20000.0      DEPOSIT            0         0.0  \n",
       "2 2017-12-05 00:00:00       767.0          POS            0         0.0  \n",
       "3 2017-10-21 00:00:00      2031.0          POS            0         0.0  \n",
       "4 2017-10-24 13:14:24     36562.0      C2C_OUT            0         0.0  "
      ]
     },
     "execution_count": 2,
     "metadata": {},
     "output_type": "execute_result"
    }
   ],
   "source": [
    "df = pd.read_csv('data/rosbank/train.csv')\n",
    "df['TRDATETIME'] = pd.to_datetime(df['TRDATETIME'], format='%d%b%y:%H:%M:%S')\n",
    "df = df.rename(columns={'cl_id':'client_id', 'MCC':'small_group', 'amount':'amount_rur'})\n",
    "df.head()"
   ]
  },
  {
   "cell_type": "code",
   "execution_count": 3,
   "metadata": {},
   "outputs": [],
   "source": [
    "mcc_to_id = {mcc: i+1 for i, mcc in enumerate(df['small_group'].unique())}\n",
    "\n",
    "df['amount_rur_bin'] = 1 + KBinsDiscretizer(10, encode='ordinal', subsample=None).fit_transform(df[['amount_rur']]).astype('int')\n",
    "df['small_group'] = df['small_group'].map(mcc_to_id)"
   ]
  },
  {
   "cell_type": "code",
   "execution_count": 4,
   "metadata": {},
   "outputs": [
    {
     "name": "stdout",
     "output_type": "stream",
     "text": [
      "383 sequences were filtered\n"
     ]
    }
   ],
   "source": [
    "ds = TransactionDataset(\n",
    "    df, \n",
    "    id_col=\"client_id\", \n",
    "    dt_col=\"TRDATETIME\", \n",
    "    cat_cols=[\"small_group\", \"amount_rur_bin\"],\n",
    "    min_length=10,\n",
    "    max_length=100\n",
    ")"
   ]
  },
  {
   "cell_type": "code",
   "execution_count": 5,
   "metadata": {},
   "outputs": [],
   "source": [
    "batch = [ds[0]]"
   ]
  },
  {
   "cell_type": "code",
   "execution_count": 6,
   "metadata": {},
   "outputs": [],
   "source": [
    "class TransactionEncoder(nn.Module):\n",
    "    def __init__(self, embedding_dict, linear_proj=None):\n",
    "        super().__init__()\n",
    "\n",
    "        self.features = embedding_dict.keys()\n",
    "        self.embeddings = nn.ModuleDict({key: nn.Embedding(vocab, dim) for key, (vocab, dim) in embedding_dict.items()})\n",
    "        self.linear_proj = nn.Identity()\n",
    "        if linear_proj is not None:\n",
    "            self.embedding_dim = linear_proj\n",
    "            self.linear_proj = nn.Linear(sum([dim for key, (vocab, dim) in embedding_dict.items()]), linear_proj)\n",
    "        else:\n",
    "            self.embedding_dim = sum([dim for key, (vocab, dim) in embedding_dict.items()])\n",
    "\n",
    "    def forward(self, x):\n",
    "        embeddings = [self.embeddings[key](x[key]) for key in self.features]\n",
    "        proj = self.linear_proj(torch.cat(embeddings, dim=2))\n",
    "        return proj"
   ]
  },
  {
   "cell_type": "code",
   "execution_count": 7,
   "metadata": {},
   "outputs": [],
   "source": [
    "a = TransactionEncoder(embedding_dict={\"small_group\": (500, 32), \"amount_rur_bin\": (11, 32)}, linear_proj=128)"
   ]
  },
  {
   "cell_type": "code",
   "execution_count": 8,
   "metadata": {},
   "outputs": [
    {
     "data": {
      "text/plain": [
       "torch.Size([1, 60, 128])"
      ]
     },
     "execution_count": 8,
     "metadata": {},
     "output_type": "execute_result"
    }
   ],
   "source": [
    "a(transaction_collate_fn(batch)).shape"
   ]
  },
  {
   "cell_type": "code",
   "execution_count": 9,
   "metadata": {},
   "outputs": [
    {
     "data": {
      "text/plain": [
       "TransactionEncoder(\n",
       "  (embeddings): ModuleDict(\n",
       "    (small_group): Embedding(500, 32)\n",
       "    (amount_rur_bin): Embedding(11, 32)\n",
       "  )\n",
       "  (linear_proj): Linear(in_features=64, out_features=128, bias=True)\n",
       ")"
      ]
     },
     "execution_count": 9,
     "metadata": {},
     "output_type": "execute_result"
    }
   ],
   "source": [
    "a.requires_grad_(False)"
   ]
  },
  {
   "cell_type": "code",
   "execution_count": 22,
   "metadata": {},
   "outputs": [],
   "source": [
    "class Head(nn.Module):\n",
    "    def __init__(self, embedding_dim, hidden_dim, vocab_size):\n",
    "        super().__init__()\n",
    "\n",
    "        self.head = nn.Sequential(\n",
    "            nn.Linear(embedding_dim, hidden_dim),\n",
    "            nn.GELU(),\n",
    "            nn.Linear(hidden_dim, vocab_size),\n",
    "        )\n",
    "\n",
    "    def forward(self, x):\n",
    "        return self.head(x)\n",
    "\n",
    "\n",
    "class TransformerModel(nn.Module):\n",
    "    def __init__(self, encoder, n_head, dim_feedforward, dropout, num_layers, head_hidden):\n",
    "        super().__init__()\n",
    "\n",
    "        self.transaction_encoder = encoder\n",
    "        self.cat_cols = list(self.transaction_encoder.embeddings.keys())\n",
    "\n",
    "        self.embedding_dim = self.transaction_encoder.embedding_dim\n",
    "        self.encoder_layer = nn.TransformerEncoderLayer(\n",
    "            self.embedding_dim, \n",
    "            n_head, \n",
    "            dim_feedforward=dim_feedforward, \n",
    "            dropout=dropout, \n",
    "            activation=\"gelu\",\n",
    "            batch_first=True\n",
    "        )\n",
    "        self.transformer_encoder = nn.TransformerEncoder(self.encoder_layer, num_layers=num_layers)\n",
    "        \n",
    "        self.heads = nn.ModuleDict({\n",
    "            key: Head(\n",
    "                self.embedding_dim, \n",
    "                head_hidden, \n",
    "                self.transaction_encoder.embeddings[key].num_embeddings\n",
    "            ) for key in self.cat_cols\n",
    "        })\n",
    "\n",
    "    def forward(self, x):\n",
    "        N, S = x[self.cat_cols[0]].shape\n",
    "        embeddings = self.transaction_encoder(x)\n",
    "\n",
    "        attn_mask = self.generate_square_subsequent_mask(S)\n",
    "        padding_mask = self.generate_padding_mask(x[self.cat_cols[0]])\n",
    "\n",
    "        encoded = self.transformer_encoder(embeddings, mask=attn_mask, is_causal=True, src_key_padding_mask=padding_mask)\n",
    "        logits = {key: self.heads[key](encoded) for key in self.cat_cols}\n",
    "        return logits\n",
    "\n",
    "    @staticmethod\n",
    "    def generate_square_subsequent_mask(sz):\n",
    "        return torch.triu(torch.full((sz, sz), float('-inf')), diagonal=1)\n",
    "    \n",
    "    @staticmethod\n",
    "    def generate_padding_mask(x):\n",
    "        return torch.where(x == 0, float('-inf'), 0)"
   ]
  },
  {
   "cell_type": "code",
   "execution_count": 23,
   "metadata": {},
   "outputs": [],
   "source": [
    "transaction_encoder = TransactionEncoder(embedding_dict={\"small_group\": (500, 32), \"amount_rur_bin\": (11, 32)}, linear_proj=128)\n",
    "\n",
    "transformer = TransformerModel(transaction_encoder, 8, 128, 0.1, 2, 128)"
   ]
  },
  {
   "cell_type": "code",
   "execution_count": 38,
   "metadata": {},
   "outputs": [
    {
     "data": {
      "text/plain": [
       "Parameter containing:\n",
       "tensor([[ 1.4697, -0.6004,  0.0930,  ...,  1.3974,  0.3611,  1.1613],\n",
       "        [ 1.4262, -1.0382,  0.8974,  ..., -0.5551, -1.5328, -0.4617],\n",
       "        [ 0.3547, -1.5246,  1.3369,  ..., -0.3562,  2.6781, -1.6873],\n",
       "        ...,\n",
       "        [ 0.1102,  0.4043,  0.1082,  ..., -1.0991, -1.2011,  0.5216],\n",
       "        [ 0.3473, -0.2307,  0.8292,  ...,  1.1241, -0.1690,  1.4924],\n",
       "        [ 0.1354,  0.6890, -0.4192,  ..., -0.7222,  0.0679,  0.8775]],\n",
       "       device='cuda:0', requires_grad=True)"
      ]
     },
     "execution_count": 38,
     "metadata": {},
     "output_type": "execute_result"
    }
   ],
   "source": [
    "transformer.transaction_encoder.embeddings.small_group.weight"
   ]
  },
  {
   "cell_type": "code",
   "execution_count": 24,
   "metadata": {},
   "outputs": [],
   "source": [
    "batch = [ds[0], ds[1], ds[2]]"
   ]
  },
  {
   "cell_type": "code",
   "execution_count": 25,
   "metadata": {},
   "outputs": [
    {
     "data": {
      "text/plain": [
       "torch.Size([10, 10])"
      ]
     },
     "execution_count": 25,
     "metadata": {},
     "output_type": "execute_result"
    }
   ],
   "source": [
    "torch.triu(torch.full((10, 10), float('-inf')), diagonal=1).shape"
   ]
  },
  {
   "cell_type": "code",
   "execution_count": 26,
   "metadata": {},
   "outputs": [],
   "source": [
    "def train_epoch(model, optimizer, dataloader, warmup=10, device=\"cuda\"):\n",
    "    model.train()\n",
    "    model.to(device)\n",
    "\n",
    "    # metrics = {key: MulticlassF1Score() for key in model.cat_cols}\n",
    "    for batch_dict in dataloader:\n",
    "        logits_dict = model(batch_dict)\n",
    "\n",
    "        loss = 0\n",
    "        for key, logits in logits_dict.items():\n",
    "            y = batch_dict[key][:, warmup:]\n",
    "            y_pred = logits[:, warmup - 1: -1].permute(0, 2, 1)\n",
    "            \n",
    "            # print(y_pred.shape)\n",
    "\n",
    "            loss += nn.functional.cross_entropy(y_pred, y, ignore_index=0)\n",
    "\n",
    "            \n",
    "\n",
    "        optimizer.zero_grad()\n",
    "        loss.backward()\n",
    "        optimizer.step()\n",
    "\n",
    "        print(loss)\n",
    "\n",
    "\n",
    "def val_epoch(model, dataloader, warmup=10, device=\"cuda\"):\n",
    "    model.eval()\n",
    "    with torch.no_grad():\n",
    "        for batch_dict in dataloader:\n",
    "            logits_dict = model(batch_dict)\n",
    "\n",
    "            loss = 0\n",
    "            for key, logits in logits_dict.items():\n",
    "                y = batch_dict[key][:, warmup + 1:]\n",
    "                y_pred = logits[:, warmup: -1].permute(0, 2, 1)\n",
    "        \n",
    "                loss += nn.functional.cross_entropy(y_pred, y, ignore_index=0)"
   ]
  },
  {
   "cell_type": "code",
   "execution_count": 27,
   "metadata": {},
   "outputs": [],
   "source": [
    "train_loader = DataLoader(ds, batch_size=32, shuffle=True, collate_fn=transaction_collate_fn)"
   ]
  },
  {
   "cell_type": "code",
   "execution_count": 28,
   "metadata": {},
   "outputs": [],
   "source": [
    "transaction_encoder = TransactionEncoder(embedding_dict={\"small_group\": (500, 32), \"amount_rur_bin\": (11, 32)}, linear_proj=128)\n",
    "\n",
    "transformer = TransformerModel(transaction_encoder, 8, 128, 0.1, 2, 128)\n",
    "optimizer = torch.optim.Adam(transformer.parameters(), lr=1e-3)"
   ]
  },
  {
   "cell_type": "code",
   "execution_count": 29,
   "metadata": {},
   "outputs": [
    {
     "ename": "AttributeError",
     "evalue": "'TransactionEncoder' object has no attribute 'device'",
     "output_type": "error",
     "traceback": [
      "\u001b[1;31m---------------------------------------------------------------------------\u001b[0m",
      "\u001b[1;31mAttributeError\u001b[0m                            Traceback (most recent call last)",
      "Cell \u001b[1;32mIn[29], line 1\u001b[0m\n\u001b[1;32m----> 1\u001b[0m train_epoch(transformer, optimizer, train_loader)\n",
      "Cell \u001b[1;32mIn[26], line 7\u001b[0m, in \u001b[0;36mtrain_epoch\u001b[1;34m(model, optimizer, dataloader, warmup, device)\u001b[0m\n\u001b[0;32m      5\u001b[0m \u001b[39m# metrics = {key: MulticlassF1Score() for key in model.cat_cols}\u001b[39;00m\n\u001b[0;32m      6\u001b[0m \u001b[39mfor\u001b[39;00m batch_dict \u001b[39min\u001b[39;00m dataloader:\n\u001b[1;32m----> 7\u001b[0m     logits_dict \u001b[39m=\u001b[39m model(batch_dict)\n\u001b[0;32m      9\u001b[0m     loss \u001b[39m=\u001b[39m \u001b[39m0\u001b[39m\n\u001b[0;32m     10\u001b[0m     \u001b[39mfor\u001b[39;00m key, logits \u001b[39min\u001b[39;00m logits_dict\u001b[39m.\u001b[39mitems():\n",
      "File \u001b[1;32mc:\\Users\\User\\AppData\\Local\\Programs\\Python\\Python39\\lib\\site-packages\\torch\\nn\\modules\\module.py:1501\u001b[0m, in \u001b[0;36mModule._call_impl\u001b[1;34m(self, *args, **kwargs)\u001b[0m\n\u001b[0;32m   1496\u001b[0m \u001b[39m# If we don't have any hooks, we want to skip the rest of the logic in\u001b[39;00m\n\u001b[0;32m   1497\u001b[0m \u001b[39m# this function, and just call forward.\u001b[39;00m\n\u001b[0;32m   1498\u001b[0m \u001b[39mif\u001b[39;00m \u001b[39mnot\u001b[39;00m (\u001b[39mself\u001b[39m\u001b[39m.\u001b[39m_backward_hooks \u001b[39mor\u001b[39;00m \u001b[39mself\u001b[39m\u001b[39m.\u001b[39m_backward_pre_hooks \u001b[39mor\u001b[39;00m \u001b[39mself\u001b[39m\u001b[39m.\u001b[39m_forward_hooks \u001b[39mor\u001b[39;00m \u001b[39mself\u001b[39m\u001b[39m.\u001b[39m_forward_pre_hooks\n\u001b[0;32m   1499\u001b[0m         \u001b[39mor\u001b[39;00m _global_backward_pre_hooks \u001b[39mor\u001b[39;00m _global_backward_hooks\n\u001b[0;32m   1500\u001b[0m         \u001b[39mor\u001b[39;00m _global_forward_hooks \u001b[39mor\u001b[39;00m _global_forward_pre_hooks):\n\u001b[1;32m-> 1501\u001b[0m     \u001b[39mreturn\u001b[39;00m forward_call(\u001b[39m*\u001b[39margs, \u001b[39m*\u001b[39m\u001b[39m*\u001b[39mkwargs)\n\u001b[0;32m   1502\u001b[0m \u001b[39m# Do not call functions when jit is used\u001b[39;00m\n\u001b[0;32m   1503\u001b[0m full_backward_hooks, non_full_backward_hooks \u001b[39m=\u001b[39m [], []\n",
      "Cell \u001b[1;32mIn[22], line 43\u001b[0m, in \u001b[0;36mTransformerModel.forward\u001b[1;34m(self, x)\u001b[0m\n\u001b[0;32m     41\u001b[0m \u001b[39mdef\u001b[39;00m \u001b[39mforward\u001b[39m(\u001b[39mself\u001b[39m, x):\n\u001b[0;32m     42\u001b[0m     N, S \u001b[39m=\u001b[39m x[\u001b[39mself\u001b[39m\u001b[39m.\u001b[39mcat_cols[\u001b[39m0\u001b[39m]]\u001b[39m.\u001b[39mshape\n\u001b[1;32m---> 43\u001b[0m     \u001b[39mprint\u001b[39m(\u001b[39mself\u001b[39;49m\u001b[39m.\u001b[39;49mtransaction_encoder\u001b[39m.\u001b[39;49mdevice)\n\u001b[0;32m     44\u001b[0m     embeddings \u001b[39m=\u001b[39m \u001b[39mself\u001b[39m\u001b[39m.\u001b[39mtransaction_encoder(x)\n\u001b[0;32m     46\u001b[0m     attn_mask \u001b[39m=\u001b[39m \u001b[39mself\u001b[39m\u001b[39m.\u001b[39mgenerate_square_subsequent_mask(S)\n",
      "File \u001b[1;32mc:\\Users\\User\\AppData\\Local\\Programs\\Python\\Python39\\lib\\site-packages\\torch\\nn\\modules\\module.py:1614\u001b[0m, in \u001b[0;36mModule.__getattr__\u001b[1;34m(self, name)\u001b[0m\n\u001b[0;32m   1612\u001b[0m     \u001b[39mif\u001b[39;00m name \u001b[39min\u001b[39;00m modules:\n\u001b[0;32m   1613\u001b[0m         \u001b[39mreturn\u001b[39;00m modules[name]\n\u001b[1;32m-> 1614\u001b[0m \u001b[39mraise\u001b[39;00m \u001b[39mAttributeError\u001b[39;00m(\u001b[39m\"\u001b[39m\u001b[39m'\u001b[39m\u001b[39m{}\u001b[39;00m\u001b[39m'\u001b[39m\u001b[39m object has no attribute \u001b[39m\u001b[39m'\u001b[39m\u001b[39m{}\u001b[39;00m\u001b[39m'\u001b[39m\u001b[39m\"\u001b[39m\u001b[39m.\u001b[39mformat(\n\u001b[0;32m   1615\u001b[0m     \u001b[39mtype\u001b[39m(\u001b[39mself\u001b[39m)\u001b[39m.\u001b[39m\u001b[39m__name__\u001b[39m, name))\n",
      "\u001b[1;31mAttributeError\u001b[0m: 'TransactionEncoder' object has no attribute 'device'"
     ]
    }
   ],
   "source": [
    "train_epoch(transformer, optimizer, train_loader)"
   ]
  },
  {
   "cell_type": "code",
   "execution_count": null,
   "metadata": {},
   "outputs": [],
   "source": []
  }
 ],
 "metadata": {
  "kernelspec": {
   "display_name": "Python 3",
   "language": "python",
   "name": "python3"
  },
  "language_info": {
   "codemirror_mode": {
    "name": "ipython",
    "version": 3
   },
   "file_extension": ".py",
   "mimetype": "text/x-python",
   "name": "python",
   "nbconvert_exporter": "python",
   "pygments_lexer": "ipython3",
   "version": "3.9.13"
  },
  "orig_nbformat": 4,
  "vscode": {
   "interpreter": {
    "hash": "cf92aa13fedf815d5c8dd192b8d835913fde3e8bc926b2a0ad6cc74ef2ba3ca2"
   }
  }
 },
 "nbformat": 4,
 "nbformat_minor": 2
}
